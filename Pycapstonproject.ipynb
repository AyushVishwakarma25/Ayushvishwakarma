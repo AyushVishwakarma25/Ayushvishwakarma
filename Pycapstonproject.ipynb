{
  "nbformat": 4,
  "nbformat_minor": 0,
  "metadata": {
    "colab": {
      "provenance": [],
      "authorship_tag": "ABX9TyP7xr9t56zWIXhEeuj1P/v+",
      "include_colab_link": true
    },
    "kernelspec": {
      "name": "python3",
      "display_name": "Python 3"
    },
    "language_info": {
      "name": "python"
    }
  },
  "cells": [
    {
      "cell_type": "markdown",
      "metadata": {
        "id": "view-in-github",
        "colab_type": "text"
      },
      "source": [
        "<a href=\"https://colab.research.google.com/github/AyushVishwakarma25/Ayushvishwakarma25/blob/main/Pycapstonproject.ipynb\" target=\"_parent\"><img src=\"https://colab.research.google.com/assets/colab-badge.svg\" alt=\"Open In Colab\"/></a>"
      ]
    },
    {
      "cell_type": "code",
      "execution_count": null,
      "metadata": {
        "colab": {
          "base_uri": "https://localhost:8080/",
          "height": 300
        },
        "id": "QxMsMB70v8_D",
        "outputId": "ccfcd7aa-9eac-4fab-b2ce-7d17cd6698c5"
      },
      "outputs": [
        {
          "output_type": "execute_result",
          "data": {
            "text/plain": [
              "                ID         Year  Runtime_minutes       Rating         Votes  \\\n",
              "count  1000.000000  1000.000000      1000.000000  1000.000000  1.000000e+03   \n",
              "mean    500.500000  2012.783000       113.172000     6.723200  1.698083e+05   \n",
              "std     288.819436     3.205962        18.810908     0.945429  1.887626e+05   \n",
              "min       1.000000  2006.000000        66.000000     1.900000  6.100000e+01   \n",
              "25%     250.750000  2010.000000       100.000000     6.200000  3.630900e+04   \n",
              "50%     500.500000  2014.000000       111.000000     6.800000  1.107990e+05   \n",
              "75%     750.250000  2016.000000       123.000000     7.400000  2.399098e+05   \n",
              "max    1000.000000  2016.000000       191.000000     9.000000  1.791916e+06   \n",
              "\n",
              "       Revenue_millions  \n",
              "count        872.000000  \n",
              "mean          82.956376  \n",
              "std          103.253540  \n",
              "min            0.000000  \n",
              "25%           13.270000  \n",
              "50%           47.985000  \n",
              "75%          113.715000  \n",
              "max          936.630000  "
            ],
            "text/html": [
              "\n",
              "  <div id=\"df-8484ec9d-43d0-4183-9106-c4c83cde7e9f\" class=\"colab-df-container\">\n",
              "    <div>\n",
              "<style scoped>\n",
              "    .dataframe tbody tr th:only-of-type {\n",
              "        vertical-align: middle;\n",
              "    }\n",
              "\n",
              "    .dataframe tbody tr th {\n",
              "        vertical-align: top;\n",
              "    }\n",
              "\n",
              "    .dataframe thead th {\n",
              "        text-align: right;\n",
              "    }\n",
              "</style>\n",
              "<table border=\"1\" class=\"dataframe\">\n",
              "  <thead>\n",
              "    <tr style=\"text-align: right;\">\n",
              "      <th></th>\n",
              "      <th>ID</th>\n",
              "      <th>Year</th>\n",
              "      <th>Runtime_minutes</th>\n",
              "      <th>Rating</th>\n",
              "      <th>Votes</th>\n",
              "      <th>Revenue_millions</th>\n",
              "    </tr>\n",
              "  </thead>\n",
              "  <tbody>\n",
              "    <tr>\n",
              "      <th>count</th>\n",
              "      <td>1000.000000</td>\n",
              "      <td>1000.000000</td>\n",
              "      <td>1000.000000</td>\n",
              "      <td>1000.000000</td>\n",
              "      <td>1.000000e+03</td>\n",
              "      <td>872.000000</td>\n",
              "    </tr>\n",
              "    <tr>\n",
              "      <th>mean</th>\n",
              "      <td>500.500000</td>\n",
              "      <td>2012.783000</td>\n",
              "      <td>113.172000</td>\n",
              "      <td>6.723200</td>\n",
              "      <td>1.698083e+05</td>\n",
              "      <td>82.956376</td>\n",
              "    </tr>\n",
              "    <tr>\n",
              "      <th>std</th>\n",
              "      <td>288.819436</td>\n",
              "      <td>3.205962</td>\n",
              "      <td>18.810908</td>\n",
              "      <td>0.945429</td>\n",
              "      <td>1.887626e+05</td>\n",
              "      <td>103.253540</td>\n",
              "    </tr>\n",
              "    <tr>\n",
              "      <th>min</th>\n",
              "      <td>1.000000</td>\n",
              "      <td>2006.000000</td>\n",
              "      <td>66.000000</td>\n",
              "      <td>1.900000</td>\n",
              "      <td>6.100000e+01</td>\n",
              "      <td>0.000000</td>\n",
              "    </tr>\n",
              "    <tr>\n",
              "      <th>25%</th>\n",
              "      <td>250.750000</td>\n",
              "      <td>2010.000000</td>\n",
              "      <td>100.000000</td>\n",
              "      <td>6.200000</td>\n",
              "      <td>3.630900e+04</td>\n",
              "      <td>13.270000</td>\n",
              "    </tr>\n",
              "    <tr>\n",
              "      <th>50%</th>\n",
              "      <td>500.500000</td>\n",
              "      <td>2014.000000</td>\n",
              "      <td>111.000000</td>\n",
              "      <td>6.800000</td>\n",
              "      <td>1.107990e+05</td>\n",
              "      <td>47.985000</td>\n",
              "    </tr>\n",
              "    <tr>\n",
              "      <th>75%</th>\n",
              "      <td>750.250000</td>\n",
              "      <td>2016.000000</td>\n",
              "      <td>123.000000</td>\n",
              "      <td>7.400000</td>\n",
              "      <td>2.399098e+05</td>\n",
              "      <td>113.715000</td>\n",
              "    </tr>\n",
              "    <tr>\n",
              "      <th>max</th>\n",
              "      <td>1000.000000</td>\n",
              "      <td>2016.000000</td>\n",
              "      <td>191.000000</td>\n",
              "      <td>9.000000</td>\n",
              "      <td>1.791916e+06</td>\n",
              "      <td>936.630000</td>\n",
              "    </tr>\n",
              "  </tbody>\n",
              "</table>\n",
              "</div>\n",
              "    <div class=\"colab-df-buttons\">\n",
              "\n",
              "  <div class=\"colab-df-container\">\n",
              "    <button class=\"colab-df-convert\" onclick=\"convertToInteractive('df-8484ec9d-43d0-4183-9106-c4c83cde7e9f')\"\n",
              "            title=\"Convert this dataframe to an interactive table.\"\n",
              "            style=\"display:none;\">\n",
              "\n",
              "  <svg xmlns=\"http://www.w3.org/2000/svg\" height=\"24px\" viewBox=\"0 -960 960 960\">\n",
              "    <path d=\"M120-120v-720h720v720H120Zm60-500h600v-160H180v160Zm220 220h160v-160H400v160Zm0 220h160v-160H400v160ZM180-400h160v-160H180v160Zm440 0h160v-160H620v160ZM180-180h160v-160H180v160Zm440 0h160v-160H620v160Z\"/>\n",
              "  </svg>\n",
              "    </button>\n",
              "\n",
              "  <style>\n",
              "    .colab-df-container {\n",
              "      display:flex;\n",
              "      gap: 12px;\n",
              "    }\n",
              "\n",
              "    .colab-df-convert {\n",
              "      background-color: #E8F0FE;\n",
              "      border: none;\n",
              "      border-radius: 50%;\n",
              "      cursor: pointer;\n",
              "      display: none;\n",
              "      fill: #1967D2;\n",
              "      height: 32px;\n",
              "      padding: 0 0 0 0;\n",
              "      width: 32px;\n",
              "    }\n",
              "\n",
              "    .colab-df-convert:hover {\n",
              "      background-color: #E2EBFA;\n",
              "      box-shadow: 0px 1px 2px rgba(60, 64, 67, 0.3), 0px 1px 3px 1px rgba(60, 64, 67, 0.15);\n",
              "      fill: #174EA6;\n",
              "    }\n",
              "\n",
              "    .colab-df-buttons div {\n",
              "      margin-bottom: 4px;\n",
              "    }\n",
              "\n",
              "    [theme=dark] .colab-df-convert {\n",
              "      background-color: #3B4455;\n",
              "      fill: #D2E3FC;\n",
              "    }\n",
              "\n",
              "    [theme=dark] .colab-df-convert:hover {\n",
              "      background-color: #434B5C;\n",
              "      box-shadow: 0px 1px 3px 1px rgba(0, 0, 0, 0.15);\n",
              "      filter: drop-shadow(0px 1px 2px rgba(0, 0, 0, 0.3));\n",
              "      fill: #FFFFFF;\n",
              "    }\n",
              "  </style>\n",
              "\n",
              "    <script>\n",
              "      const buttonEl =\n",
              "        document.querySelector('#df-8484ec9d-43d0-4183-9106-c4c83cde7e9f button.colab-df-convert');\n",
              "      buttonEl.style.display =\n",
              "        google.colab.kernel.accessAllowed ? 'block' : 'none';\n",
              "\n",
              "      async function convertToInteractive(key) {\n",
              "        const element = document.querySelector('#df-8484ec9d-43d0-4183-9106-c4c83cde7e9f');\n",
              "        const dataTable =\n",
              "          await google.colab.kernel.invokeFunction('convertToInteractive',\n",
              "                                                    [key], {});\n",
              "        if (!dataTable) return;\n",
              "\n",
              "        const docLinkHtml = 'Like what you see? Visit the ' +\n",
              "          '<a target=\"_blank\" href=https://colab.research.google.com/notebooks/data_table.ipynb>data table notebook</a>'\n",
              "          + ' to learn more about interactive tables.';\n",
              "        element.innerHTML = '';\n",
              "        dataTable['output_type'] = 'display_data';\n",
              "        await google.colab.output.renderOutput(dataTable, element);\n",
              "        const docLink = document.createElement('div');\n",
              "        docLink.innerHTML = docLinkHtml;\n",
              "        element.appendChild(docLink);\n",
              "      }\n",
              "    </script>\n",
              "  </div>\n",
              "\n",
              "\n",
              "<div id=\"df-8e53e69c-5aeb-48f9-b111-7724ebd2aaf6\">\n",
              "  <button class=\"colab-df-quickchart\" onclick=\"quickchart('df-8e53e69c-5aeb-48f9-b111-7724ebd2aaf6')\"\n",
              "            title=\"Suggest charts.\"\n",
              "            style=\"display:none;\">\n",
              "\n",
              "<svg xmlns=\"http://www.w3.org/2000/svg\" height=\"24px\"viewBox=\"0 0 24 24\"\n",
              "     width=\"24px\">\n",
              "    <g>\n",
              "        <path d=\"M19 3H5c-1.1 0-2 .9-2 2v14c0 1.1.9 2 2 2h14c1.1 0 2-.9 2-2V5c0-1.1-.9-2-2-2zM9 17H7v-7h2v7zm4 0h-2V7h2v10zm4 0h-2v-4h2v4z\"/>\n",
              "    </g>\n",
              "</svg>\n",
              "  </button>\n",
              "\n",
              "<style>\n",
              "  .colab-df-quickchart {\n",
              "      --bg-color: #E8F0FE;\n",
              "      --fill-color: #1967D2;\n",
              "      --hover-bg-color: #E2EBFA;\n",
              "      --hover-fill-color: #174EA6;\n",
              "      --disabled-fill-color: #AAA;\n",
              "      --disabled-bg-color: #DDD;\n",
              "  }\n",
              "\n",
              "  [theme=dark] .colab-df-quickchart {\n",
              "      --bg-color: #3B4455;\n",
              "      --fill-color: #D2E3FC;\n",
              "      --hover-bg-color: #434B5C;\n",
              "      --hover-fill-color: #FFFFFF;\n",
              "      --disabled-bg-color: #3B4455;\n",
              "      --disabled-fill-color: #666;\n",
              "  }\n",
              "\n",
              "  .colab-df-quickchart {\n",
              "    background-color: var(--bg-color);\n",
              "    border: none;\n",
              "    border-radius: 50%;\n",
              "    cursor: pointer;\n",
              "    display: none;\n",
              "    fill: var(--fill-color);\n",
              "    height: 32px;\n",
              "    padding: 0;\n",
              "    width: 32px;\n",
              "  }\n",
              "\n",
              "  .colab-df-quickchart:hover {\n",
              "    background-color: var(--hover-bg-color);\n",
              "    box-shadow: 0 1px 2px rgba(60, 64, 67, 0.3), 0 1px 3px 1px rgba(60, 64, 67, 0.15);\n",
              "    fill: var(--button-hover-fill-color);\n",
              "  }\n",
              "\n",
              "  .colab-df-quickchart-complete:disabled,\n",
              "  .colab-df-quickchart-complete:disabled:hover {\n",
              "    background-color: var(--disabled-bg-color);\n",
              "    fill: var(--disabled-fill-color);\n",
              "    box-shadow: none;\n",
              "  }\n",
              "\n",
              "  .colab-df-spinner {\n",
              "    border: 2px solid var(--fill-color);\n",
              "    border-color: transparent;\n",
              "    border-bottom-color: var(--fill-color);\n",
              "    animation:\n",
              "      spin 1s steps(1) infinite;\n",
              "  }\n",
              "\n",
              "  @keyframes spin {\n",
              "    0% {\n",
              "      border-color: transparent;\n",
              "      border-bottom-color: var(--fill-color);\n",
              "      border-left-color: var(--fill-color);\n",
              "    }\n",
              "    20% {\n",
              "      border-color: transparent;\n",
              "      border-left-color: var(--fill-color);\n",
              "      border-top-color: var(--fill-color);\n",
              "    }\n",
              "    30% {\n",
              "      border-color: transparent;\n",
              "      border-left-color: var(--fill-color);\n",
              "      border-top-color: var(--fill-color);\n",
              "      border-right-color: var(--fill-color);\n",
              "    }\n",
              "    40% {\n",
              "      border-color: transparent;\n",
              "      border-right-color: var(--fill-color);\n",
              "      border-top-color: var(--fill-color);\n",
              "    }\n",
              "    60% {\n",
              "      border-color: transparent;\n",
              "      border-right-color: var(--fill-color);\n",
              "    }\n",
              "    80% {\n",
              "      border-color: transparent;\n",
              "      border-right-color: var(--fill-color);\n",
              "      border-bottom-color: var(--fill-color);\n",
              "    }\n",
              "    90% {\n",
              "      border-color: transparent;\n",
              "      border-bottom-color: var(--fill-color);\n",
              "    }\n",
              "  }\n",
              "</style>\n",
              "\n",
              "  <script>\n",
              "    async function quickchart(key) {\n",
              "      const quickchartButtonEl =\n",
              "        document.querySelector('#' + key + ' button');\n",
              "      quickchartButtonEl.disabled = true;  // To prevent multiple clicks.\n",
              "      quickchartButtonEl.classList.add('colab-df-spinner');\n",
              "      try {\n",
              "        const charts = await google.colab.kernel.invokeFunction(\n",
              "            'suggestCharts', [key], {});\n",
              "      } catch (error) {\n",
              "        console.error('Error during call to suggestCharts:', error);\n",
              "      }\n",
              "      quickchartButtonEl.classList.remove('colab-df-spinner');\n",
              "      quickchartButtonEl.classList.add('colab-df-quickchart-complete');\n",
              "    }\n",
              "    (() => {\n",
              "      let quickchartButtonEl =\n",
              "        document.querySelector('#df-8e53e69c-5aeb-48f9-b111-7724ebd2aaf6 button');\n",
              "      quickchartButtonEl.style.display =\n",
              "        google.colab.kernel.accessAllowed ? 'block' : 'none';\n",
              "    })();\n",
              "  </script>\n",
              "</div>\n",
              "    </div>\n",
              "  </div>\n"
            ]
          },
          "metadata": {},
          "execution_count": 19
        }
      ],
      "source": [
        "import pandas as pd\n",
        "import numpy as np\n",
        "imdb = pd.read_csv('/content/IMDBMovie.csv')\n",
        "imdb.describe()"
      ]
    },
    {
      "cell_type": "code",
      "source": [
        "imdb.shape\n"
      ],
      "metadata": {
        "colab": {
          "base_uri": "https://localhost:8080/"
        },
        "id": "Z1HyCgj7wwQI",
        "outputId": "2086960a-bef1-45dc-89f9-90e69ac0474e"
      },
      "execution_count": null,
      "outputs": [
        {
          "output_type": "execute_result",
          "data": {
            "text/plain": [
              "(1000, 9)"
            ]
          },
          "metadata": {},
          "execution_count": 20
        }
      ]
    },
    {
      "cell_type": "code",
      "source": [
        " ratings_75th_percentile = imdb['Rating'].quantile(0.75)\n",
        "\n",
        "print(\"The 75th percentile of ratings in the IMDb dataset is:\", ratings_75th_percentile)\n",
        "\n",
        "\n"
      ],
      "metadata": {
        "colab": {
          "base_uri": "https://localhost:8080/"
        },
        "id": "oEcMAZuOw3n0",
        "outputId": "0cdfb3dc-29db-45e6-ccc9-80300d1d30b2"
      },
      "execution_count": null,
      "outputs": [
        {
          "output_type": "stream",
          "name": "stdout",
          "text": [
            "The 75th percentile of ratings in the IMDb dataset is: 7.4\n"
          ]
        }
      ]
    },
    {
      "cell_type": "code",
      "source": [
        "na_values_revenue = imdb['Revenue_millions'].isnull().sum()\n",
        "\n",
        "print(\"Number of NA values in the 'Revenue_millions' field:\", na_values_revenue)\n"
      ],
      "metadata": {
        "colab": {
          "base_uri": "https://localhost:8080/"
        },
        "id": "8eBhWup0yF9l",
        "outputId": "57a92397-2e26-4132-84ad-a376f384c0ec"
      },
      "execution_count": null,
      "outputs": [
        {
          "output_type": "stream",
          "name": "stdout",
          "text": [
            "Number of NA values in the 'Revenue_millions' field: 128\n"
          ]
        }
      ]
    },
    {
      "cell_type": "code",
      "source": [
        "# Filter movies with revenue higher than 75 million\n",
        "high_revenue_movies = imdb[imdb['Revenue_millions'] > 75]\n",
        "\n",
        "# Get the count of movies with revenue higher than 75 million\n",
        "num_high_revenue_movies = high_revenue_movies.shape[0]\n",
        "\n",
        "print(\"Number of movies with revenue higher than 75 million:\", num_high_revenue_movies)\n"
      ],
      "metadata": {
        "colab": {
          "base_uri": "https://localhost:8080/"
        },
        "id": "Uo8sy3LZzcqX",
        "outputId": "1783a026-f55b-4aef-f78c-d79d92dd6147"
      },
      "execution_count": null,
      "outputs": [
        {
          "output_type": "stream",
          "name": "stdout",
          "text": [
            "Number of movies with revenue higher than 75 million: 318\n"
          ]
        }
      ]
    },
    {
      "cell_type": "code",
      "source": [
        "imdb.head(5)"
      ],
      "metadata": {
        "colab": {
          "base_uri": "https://localhost:8080/",
          "height": 206
        },
        "id": "MfZx5np4zcs3",
        "outputId": "cc9983d6-e9c5-4234-d30c-de1018a645c3"
      },
      "execution_count": null,
      "outputs": [
        {
          "output_type": "execute_result",
          "data": {
            "text/plain": [
              "   ID                    Title      Genre              Director  Year  \\\n",
              "0   1  Guardians of the Galaxy     Action            James Gunn  2014   \n",
              "1   2               Prometheus  Adventure          Ridley Scott  2012   \n",
              "2   3                    Split     Horror    M. Night Shyamalan  2016   \n",
              "3   4                     Sing  Animation  Christophe Lourdelet  2016   \n",
              "4   5            Suicide Squad     Action            David Ayer  2016   \n",
              "\n",
              "   Runtime_minutes  Rating   Votes  Revenue_millions  \n",
              "0              121     8.1  757074            333.13  \n",
              "1              124     7.0  485820            126.46  \n",
              "2              117     7.3  157606            138.12  \n",
              "3              108     7.2   60545            270.32  \n",
              "4              123     6.2  393727            325.02  "
            ],
            "text/html": [
              "\n",
              "  <div id=\"df-5d60e6cf-6696-4d89-9655-366b49f88067\" class=\"colab-df-container\">\n",
              "    <div>\n",
              "<style scoped>\n",
              "    .dataframe tbody tr th:only-of-type {\n",
              "        vertical-align: middle;\n",
              "    }\n",
              "\n",
              "    .dataframe tbody tr th {\n",
              "        vertical-align: top;\n",
              "    }\n",
              "\n",
              "    .dataframe thead th {\n",
              "        text-align: right;\n",
              "    }\n",
              "</style>\n",
              "<table border=\"1\" class=\"dataframe\">\n",
              "  <thead>\n",
              "    <tr style=\"text-align: right;\">\n",
              "      <th></th>\n",
              "      <th>ID</th>\n",
              "      <th>Title</th>\n",
              "      <th>Genre</th>\n",
              "      <th>Director</th>\n",
              "      <th>Year</th>\n",
              "      <th>Runtime_minutes</th>\n",
              "      <th>Rating</th>\n",
              "      <th>Votes</th>\n",
              "      <th>Revenue_millions</th>\n",
              "    </tr>\n",
              "  </thead>\n",
              "  <tbody>\n",
              "    <tr>\n",
              "      <th>0</th>\n",
              "      <td>1</td>\n",
              "      <td>Guardians of the Galaxy</td>\n",
              "      <td>Action</td>\n",
              "      <td>James Gunn</td>\n",
              "      <td>2014</td>\n",
              "      <td>121</td>\n",
              "      <td>8.1</td>\n",
              "      <td>757074</td>\n",
              "      <td>333.13</td>\n",
              "    </tr>\n",
              "    <tr>\n",
              "      <th>1</th>\n",
              "      <td>2</td>\n",
              "      <td>Prometheus</td>\n",
              "      <td>Adventure</td>\n",
              "      <td>Ridley Scott</td>\n",
              "      <td>2012</td>\n",
              "      <td>124</td>\n",
              "      <td>7.0</td>\n",
              "      <td>485820</td>\n",
              "      <td>126.46</td>\n",
              "    </tr>\n",
              "    <tr>\n",
              "      <th>2</th>\n",
              "      <td>3</td>\n",
              "      <td>Split</td>\n",
              "      <td>Horror</td>\n",
              "      <td>M. Night Shyamalan</td>\n",
              "      <td>2016</td>\n",
              "      <td>117</td>\n",
              "      <td>7.3</td>\n",
              "      <td>157606</td>\n",
              "      <td>138.12</td>\n",
              "    </tr>\n",
              "    <tr>\n",
              "      <th>3</th>\n",
              "      <td>4</td>\n",
              "      <td>Sing</td>\n",
              "      <td>Animation</td>\n",
              "      <td>Christophe Lourdelet</td>\n",
              "      <td>2016</td>\n",
              "      <td>108</td>\n",
              "      <td>7.2</td>\n",
              "      <td>60545</td>\n",
              "      <td>270.32</td>\n",
              "    </tr>\n",
              "    <tr>\n",
              "      <th>4</th>\n",
              "      <td>5</td>\n",
              "      <td>Suicide Squad</td>\n",
              "      <td>Action</td>\n",
              "      <td>David Ayer</td>\n",
              "      <td>2016</td>\n",
              "      <td>123</td>\n",
              "      <td>6.2</td>\n",
              "      <td>393727</td>\n",
              "      <td>325.02</td>\n",
              "    </tr>\n",
              "  </tbody>\n",
              "</table>\n",
              "</div>\n",
              "    <div class=\"colab-df-buttons\">\n",
              "\n",
              "  <div class=\"colab-df-container\">\n",
              "    <button class=\"colab-df-convert\" onclick=\"convertToInteractive('df-5d60e6cf-6696-4d89-9655-366b49f88067')\"\n",
              "            title=\"Convert this dataframe to an interactive table.\"\n",
              "            style=\"display:none;\">\n",
              "\n",
              "  <svg xmlns=\"http://www.w3.org/2000/svg\" height=\"24px\" viewBox=\"0 -960 960 960\">\n",
              "    <path d=\"M120-120v-720h720v720H120Zm60-500h600v-160H180v160Zm220 220h160v-160H400v160Zm0 220h160v-160H400v160ZM180-400h160v-160H180v160Zm440 0h160v-160H620v160ZM180-180h160v-160H180v160Zm440 0h160v-160H620v160Z\"/>\n",
              "  </svg>\n",
              "    </button>\n",
              "\n",
              "  <style>\n",
              "    .colab-df-container {\n",
              "      display:flex;\n",
              "      gap: 12px;\n",
              "    }\n",
              "\n",
              "    .colab-df-convert {\n",
              "      background-color: #E8F0FE;\n",
              "      border: none;\n",
              "      border-radius: 50%;\n",
              "      cursor: pointer;\n",
              "      display: none;\n",
              "      fill: #1967D2;\n",
              "      height: 32px;\n",
              "      padding: 0 0 0 0;\n",
              "      width: 32px;\n",
              "    }\n",
              "\n",
              "    .colab-df-convert:hover {\n",
              "      background-color: #E2EBFA;\n",
              "      box-shadow: 0px 1px 2px rgba(60, 64, 67, 0.3), 0px 1px 3px 1px rgba(60, 64, 67, 0.15);\n",
              "      fill: #174EA6;\n",
              "    }\n",
              "\n",
              "    .colab-df-buttons div {\n",
              "      margin-bottom: 4px;\n",
              "    }\n",
              "\n",
              "    [theme=dark] .colab-df-convert {\n",
              "      background-color: #3B4455;\n",
              "      fill: #D2E3FC;\n",
              "    }\n",
              "\n",
              "    [theme=dark] .colab-df-convert:hover {\n",
              "      background-color: #434B5C;\n",
              "      box-shadow: 0px 1px 3px 1px rgba(0, 0, 0, 0.15);\n",
              "      filter: drop-shadow(0px 1px 2px rgba(0, 0, 0, 0.3));\n",
              "      fill: #FFFFFF;\n",
              "    }\n",
              "  </style>\n",
              "\n",
              "    <script>\n",
              "      const buttonEl =\n",
              "        document.querySelector('#df-5d60e6cf-6696-4d89-9655-366b49f88067 button.colab-df-convert');\n",
              "      buttonEl.style.display =\n",
              "        google.colab.kernel.accessAllowed ? 'block' : 'none';\n",
              "\n",
              "      async function convertToInteractive(key) {\n",
              "        const element = document.querySelector('#df-5d60e6cf-6696-4d89-9655-366b49f88067');\n",
              "        const dataTable =\n",
              "          await google.colab.kernel.invokeFunction('convertToInteractive',\n",
              "                                                    [key], {});\n",
              "        if (!dataTable) return;\n",
              "\n",
              "        const docLinkHtml = 'Like what you see? Visit the ' +\n",
              "          '<a target=\"_blank\" href=https://colab.research.google.com/notebooks/data_table.ipynb>data table notebook</a>'\n",
              "          + ' to learn more about interactive tables.';\n",
              "        element.innerHTML = '';\n",
              "        dataTable['output_type'] = 'display_data';\n",
              "        await google.colab.output.renderOutput(dataTable, element);\n",
              "        const docLink = document.createElement('div');\n",
              "        docLink.innerHTML = docLinkHtml;\n",
              "        element.appendChild(docLink);\n",
              "      }\n",
              "    </script>\n",
              "  </div>\n",
              "\n",
              "\n",
              "<div id=\"df-c028e601-ae1d-4b41-b764-e689fca4101e\">\n",
              "  <button class=\"colab-df-quickchart\" onclick=\"quickchart('df-c028e601-ae1d-4b41-b764-e689fca4101e')\"\n",
              "            title=\"Suggest charts.\"\n",
              "            style=\"display:none;\">\n",
              "\n",
              "<svg xmlns=\"http://www.w3.org/2000/svg\" height=\"24px\"viewBox=\"0 0 24 24\"\n",
              "     width=\"24px\">\n",
              "    <g>\n",
              "        <path d=\"M19 3H5c-1.1 0-2 .9-2 2v14c0 1.1.9 2 2 2h14c1.1 0 2-.9 2-2V5c0-1.1-.9-2-2-2zM9 17H7v-7h2v7zm4 0h-2V7h2v10zm4 0h-2v-4h2v4z\"/>\n",
              "    </g>\n",
              "</svg>\n",
              "  </button>\n",
              "\n",
              "<style>\n",
              "  .colab-df-quickchart {\n",
              "      --bg-color: #E8F0FE;\n",
              "      --fill-color: #1967D2;\n",
              "      --hover-bg-color: #E2EBFA;\n",
              "      --hover-fill-color: #174EA6;\n",
              "      --disabled-fill-color: #AAA;\n",
              "      --disabled-bg-color: #DDD;\n",
              "  }\n",
              "\n",
              "  [theme=dark] .colab-df-quickchart {\n",
              "      --bg-color: #3B4455;\n",
              "      --fill-color: #D2E3FC;\n",
              "      --hover-bg-color: #434B5C;\n",
              "      --hover-fill-color: #FFFFFF;\n",
              "      --disabled-bg-color: #3B4455;\n",
              "      --disabled-fill-color: #666;\n",
              "  }\n",
              "\n",
              "  .colab-df-quickchart {\n",
              "    background-color: var(--bg-color);\n",
              "    border: none;\n",
              "    border-radius: 50%;\n",
              "    cursor: pointer;\n",
              "    display: none;\n",
              "    fill: var(--fill-color);\n",
              "    height: 32px;\n",
              "    padding: 0;\n",
              "    width: 32px;\n",
              "  }\n",
              "\n",
              "  .colab-df-quickchart:hover {\n",
              "    background-color: var(--hover-bg-color);\n",
              "    box-shadow: 0 1px 2px rgba(60, 64, 67, 0.3), 0 1px 3px 1px rgba(60, 64, 67, 0.15);\n",
              "    fill: var(--button-hover-fill-color);\n",
              "  }\n",
              "\n",
              "  .colab-df-quickchart-complete:disabled,\n",
              "  .colab-df-quickchart-complete:disabled:hover {\n",
              "    background-color: var(--disabled-bg-color);\n",
              "    fill: var(--disabled-fill-color);\n",
              "    box-shadow: none;\n",
              "  }\n",
              "\n",
              "  .colab-df-spinner {\n",
              "    border: 2px solid var(--fill-color);\n",
              "    border-color: transparent;\n",
              "    border-bottom-color: var(--fill-color);\n",
              "    animation:\n",
              "      spin 1s steps(1) infinite;\n",
              "  }\n",
              "\n",
              "  @keyframes spin {\n",
              "    0% {\n",
              "      border-color: transparent;\n",
              "      border-bottom-color: var(--fill-color);\n",
              "      border-left-color: var(--fill-color);\n",
              "    }\n",
              "    20% {\n",
              "      border-color: transparent;\n",
              "      border-left-color: var(--fill-color);\n",
              "      border-top-color: var(--fill-color);\n",
              "    }\n",
              "    30% {\n",
              "      border-color: transparent;\n",
              "      border-left-color: var(--fill-color);\n",
              "      border-top-color: var(--fill-color);\n",
              "      border-right-color: var(--fill-color);\n",
              "    }\n",
              "    40% {\n",
              "      border-color: transparent;\n",
              "      border-right-color: var(--fill-color);\n",
              "      border-top-color: var(--fill-color);\n",
              "    }\n",
              "    60% {\n",
              "      border-color: transparent;\n",
              "      border-right-color: var(--fill-color);\n",
              "    }\n",
              "    80% {\n",
              "      border-color: transparent;\n",
              "      border-right-color: var(--fill-color);\n",
              "      border-bottom-color: var(--fill-color);\n",
              "    }\n",
              "    90% {\n",
              "      border-color: transparent;\n",
              "      border-bottom-color: var(--fill-color);\n",
              "    }\n",
              "  }\n",
              "</style>\n",
              "\n",
              "  <script>\n",
              "    async function quickchart(key) {\n",
              "      const quickchartButtonEl =\n",
              "        document.querySelector('#' + key + ' button');\n",
              "      quickchartButtonEl.disabled = true;  // To prevent multiple clicks.\n",
              "      quickchartButtonEl.classList.add('colab-df-spinner');\n",
              "      try {\n",
              "        const charts = await google.colab.kernel.invokeFunction(\n",
              "            'suggestCharts', [key], {});\n",
              "      } catch (error) {\n",
              "        console.error('Error during call to suggestCharts:', error);\n",
              "      }\n",
              "      quickchartButtonEl.classList.remove('colab-df-spinner');\n",
              "      quickchartButtonEl.classList.add('colab-df-quickchart-complete');\n",
              "    }\n",
              "    (() => {\n",
              "      let quickchartButtonEl =\n",
              "        document.querySelector('#df-c028e601-ae1d-4b41-b764-e689fca4101e button');\n",
              "      quickchartButtonEl.style.display =\n",
              "        google.colab.kernel.accessAllowed ? 'block' : 'none';\n",
              "    })();\n",
              "  </script>\n",
              "</div>\n",
              "    </div>\n",
              "  </div>\n"
            ]
          },
          "metadata": {},
          "execution_count": 37
        }
      ]
    },
    {
      "cell_type": "code",
      "source": [
        "# Filter movies with revenue greater than 50 million and rating less than 7\n",
        "filtered_movies = imdb[(imdb['Revenue_millions'] > 50) & (imdb['Rating'] < 7)]\n",
        "\n",
        "# Get the count of movies meeting the criteria\n",
        "num_filtered_movies = filtered_movies.shape[0]\n",
        "\n",
        "print(\"Number of movies with revenue greater than 50 million and rating less than 7:\", num_filtered_movies)\n"
      ],
      "metadata": {
        "colab": {
          "base_uri": "https://localhost:8080/"
        },
        "id": "Sl82PAE60fn1",
        "outputId": "9de8bf66-a59a-4a05-8b41-ab1c731b7214"
      },
      "execution_count": null,
      "outputs": [
        {
          "output_type": "stream",
          "name": "stdout",
          "text": [
            "Number of movies with revenue greater than 50 million and rating less than 7: 211\n"
          ]
        }
      ]
    },
    {
      "cell_type": "code",
      "source": [
        "\n",
        "# Filter movies released in the year 2015\n",
        "movies_2015 = imdb[imdb['Year'] == 2015]\n",
        "\n",
        "# Calculate the total revenue generated by movies in 2015\n",
        "total_revenue_2015 = movies_2015['Revenue_millions'].sum()\n",
        "\n",
        "print(\"Total revenue generated by movies in the year 2015:\", total_revenue_2015, \"millions\")\n"
      ],
      "metadata": {
        "colab": {
          "base_uri": "https://localhost:8080/"
        },
        "id": "EA344UFl1Pbj",
        "outputId": "31749999-931e-4011-b76c-1cbbef288a81"
      },
      "execution_count": null,
      "outputs": [
        {
          "output_type": "stream",
          "name": "stdout",
          "text": [
            "Total revenue generated by movies in the year 2015: 8854.119999999999 millions\n"
          ]
        }
      ]
    },
    {
      "cell_type": "code",
      "source": [
        "# Filter movies of the genre 'Adventure' released in the year 2015\n",
        "adventure_movies_2015 = imdb[(imdb['Year'] == 2015) & (imdb['Genre'] == 'Adventure')]\n",
        "\n",
        "# Calculate the average rating for Adventure movies in 2015\n",
        "average_rating_adventure_2015 = adventure_movies_2015['Rating'].mean()\n",
        "\n",
        "print(\"Average rating for Adventure movies in the year 2015:\", average_rating_adventure_2015)\n"
      ],
      "metadata": {
        "colab": {
          "base_uri": "https://localhost:8080/"
        },
        "id": "_d9-Se4M1XoA",
        "outputId": "f18ca2a5-6f84-473f-a9dd-2e06ea0eb9bf"
      },
      "execution_count": null,
      "outputs": [
        {
          "output_type": "stream",
          "name": "stdout",
          "text": [
            "Average rating for Adventure movies in the year 2015: 6.8\n"
          ]
        }
      ]
    },
    {
      "cell_type": "code",
      "source": [
        "# Extract rows 75 to 150 (exclusive) and calculate the average duration\n",
        "average_duration = imdb.iloc[75:150]['Runtime_minutes'].mean()\n",
        "\n",
        "print(\"Average duration of movies in rows 75 to 150:\", average_duration, \"minutes\")\n"
      ],
      "metadata": {
        "colab": {
          "base_uri": "https://localhost:8080/"
        },
        "id": "kSt9ns4F1XsH",
        "outputId": "4811de21-1490-42d1-a725-841b209c651e"
      },
      "execution_count": null,
      "outputs": [
        {
          "output_type": "stream",
          "name": "stdout",
          "text": [
            "Average duration of movies in rows 75 to 150: 127.61333333333333 minutes\n"
          ]
        }
      ]
    },
    {
      "cell_type": "code",
      "source": [
        "# Group the data by 'Year' and calculate the total revenue for each year\n",
        "revenue_by_year = imdb.groupby('Year')['Revenue_millions'].sum()\n",
        "\n",
        "# Find the year with the highest total revenue\n",
        "year_highest_revenue = revenue_by_year.idxmax()\n",
        "\n",
        "print(\"Year that generated the highest revenue:\", year_highest_revenue)\n"
      ],
      "metadata": {
        "colab": {
          "base_uri": "https://localhost:8080/"
        },
        "id": "UhSoSpnb1Xux",
        "outputId": "d8ffd7dd-f6d1-445d-9ce5-88a580d75924"
      },
      "execution_count": null,
      "outputs": [
        {
          "output_type": "stream",
          "name": "stdout",
          "text": [
            "Year that generated the highest revenue: 2016\n"
          ]
        }
      ]
    },
    {
      "cell_type": "code",
      "source": [
        "# Extract rows 10 to 50 and find the maximum revenue\n",
        "max_revenue = imdb.iloc[10:51]['Revenue_millions'].max()\n",
        "\n",
        "print(\"Maximum revenue out of rows 10 to 50:\", max_revenue, \"millions\")\n"
      ],
      "metadata": {
        "colab": {
          "base_uri": "https://localhost:8080/"
        },
        "id": "TTYe1Oh01-KK",
        "outputId": "04779172-5dfc-4661-ad86-72ccddc0a768"
      },
      "execution_count": null,
      "outputs": [
        {
          "output_type": "stream",
          "name": "stdout",
          "text": [
            "Maximum revenue out of rows 10 to 50: 936.63 millions\n"
          ]
        }
      ]
    },
    {
      "cell_type": "code",
      "source": [
        "# List of genres to filter\n",
        "genres_to_filter = ['Adventure', 'Action', 'Horror', 'Crime']\n",
        "\n",
        "# Count movies with specified genres\n",
        "filtered_movies = imdb[imdb['Genre'].isin(genres_to_filter)]\n",
        "num_filtered_movies = filtered_movies.shape[0]\n",
        "\n",
        "print(\"Number of movies with genres 'Adventure', 'Action', 'Horror', and 'Crime':\", num_filtered_movies)\n"
      ],
      "metadata": {
        "colab": {
          "base_uri": "https://localhost:8080/"
        },
        "id": "kzfGu9Bm2UK4",
        "outputId": "b5e8111d-d454-431f-f916-6cb96d922865"
      },
      "execution_count": null,
      "outputs": [
        {
          "output_type": "stream",
          "name": "stdout",
          "text": [
            "Number of movies with genres 'Adventure', 'Action', 'Horror', and 'Crime': 485\n"
          ]
        }
      ]
    },
    {
      "cell_type": "code",
      "source": [
        "# Group the data by 'Genre' and calculate average rating, average number of votes, and average revenue\n",
        "genre_report = imdb.groupby('Genre').agg({\n",
        "    'Rating': 'mean',\n",
        "    'Votes': 'mean',\n",
        "    'Revenue_millions': 'mean'\n",
        "})\n",
        "\n",
        "# Calculate the average rating for the 'Horror' genre\n",
        "average_rating_horror = genre_report.loc['Horror', 'Rating']\n",
        "\n",
        "print(\"Average rating of the 'Horror' genre:\", round(average_rating_horror, 2))\n"
      ],
      "metadata": {
        "colab": {
          "base_uri": "https://localhost:8080/"
        },
        "id": "iRhRkdeg2dZ2",
        "outputId": "9de838b1-8516-4615-8aab-43aeb27dad8e"
      },
      "execution_count": null,
      "outputs": [
        {
          "output_type": "stream",
          "name": "stdout",
          "text": [
            "Average rating of the 'Horror' genre: 5.87\n"
          ]
        }
      ]
    },
    {
      "cell_type": "code",
      "source": [
        "# Group the cleaned IMDb dataset by 'Year', 'Genre' and calculate total revenue for each group\n",
        "genre_yearly_revenue = imdb.groupby(['Year', 'Genre'])['Revenue_millions'].sum().reset_index()\n",
        "\n",
        "genre_yearly_revenue.rename(columns={'Revenue_millions': 'Total_revenue'}, inplace=True)\n",
        "# Merge the cleaned IMDb dataset with the genre-yearly-revenue dataset\n",
        "merged_imdb = pd.merge(imdb, genre_yearly_revenue, on=['Year', 'Genre'], how='left')\n",
        "\n",
        "# Calculate % revenue for the movie 'Split'\n",
        "movie_name = 'Split'\n",
        "split_movie = merged_imdb[merged_imdb['Title'] == movie_name]\n",
        "\n",
        "percent_revenue_split = split_movie.apply(lambda row: (row['Revenue_millions'] * 100) / row['Total_revenue'], axis=1).values[0]\n",
        "\n",
        "print(f\"Percentage revenue of the movie '{movie_name}': {percent_revenue_split:.2f}%\")\n",
        "\n",
        "\n"
      ],
      "metadata": {
        "colab": {
          "base_uri": "https://localhost:8080/"
        },
        "id": "sMfwgy7E2dcZ",
        "outputId": "89a184f3-fe30-4a9d-a8bc-2894f3707d3a"
      },
      "execution_count": null,
      "outputs": [
        {
          "output_type": "stream",
          "name": "stdout",
          "text": [
            "Percentage revenue of the movie 'Split': 29.42%\n"
          ]
        }
      ]
    },
    {
      "cell_type": "code",
      "source": [
        "# Define a function to calculate Votes_norm using the provided formula\n",
        "def calculate_votes_norm(votes, min_votes, max_votes):\n",
        "    return ((votes - min_votes) * 10) / (max_votes - min_votes)\n",
        "\n",
        "# Calculate min and max votes\n",
        "min_votes = imdb['Votes'].min()\n",
        "max_votes = imdb['Votes'].max()\n",
        "\n",
        "# Add 'Votes_norm' column to the IMDb dataset using apply() function\n",
        "imdb['Votes_norm'] = imdb['Votes'].apply(lambda x: calculate_votes_norm(x, min_votes, max_votes))\n",
        "\n",
        "# Calculate the average 'Votes_norm'\n",
        "average_votes_norm = imdb['Votes_norm'].mean()\n",
        "\n",
        "print(\"Average 'Votes_norm':\", round(average_votes_norm, 2))\n"
      ],
      "metadata": {
        "colab": {
          "base_uri": "https://localhost:8080/"
        },
        "id": "um7Fw1oS2dkX",
        "outputId": "baa67822-fab8-4de6-e782-210fe647cf54"
      },
      "execution_count": null,
      "outputs": [
        {
          "output_type": "stream",
          "name": "stdout",
          "text": [
            "Average 'Votes_norm': 0.95\n"
          ]
        }
      ]
    },
    {
      "cell_type": "code",
      "source": [
        "# Add 'Total_rating' column to the IMDb dataset using apply() function\n",
        "imdb['Total_rating'] = imdb.apply(lambda row: row['Rating'] + row['Votes_norm'], axis=1)\n",
        "\n",
        "# Calculate the highest 'Total_rating'\n",
        "highest_total_rating = imdb['Total_rating'].max()\n",
        "\n",
        "print(\"Highest 'Total_rating':\", highest_total_rating)\n"
      ],
      "metadata": {
        "colab": {
          "base_uri": "https://localhost:8080/"
        },
        "id": "pe3I97ki3Qqm",
        "outputId": "25e30ca4-4b18-4a9b-bf4f-2ea0cde07cfe"
      },
      "execution_count": null,
      "outputs": [
        {
          "output_type": "stream",
          "name": "stdout",
          "text": [
            "Highest 'Total_rating': 19.0\n"
          ]
        }
      ]
    },
    {
      "cell_type": "code",
      "source": [
        "# Define the bin edges and labels\n",
        "bin_edges = [0, 50, 100, 150, float('inf')]\n",
        "bin_labels = ['0-50', '51-100', '101-150', '150+']\n",
        "\n",
        "# Create the 'Revenue_bins' column using pd.cut() function\n",
        "imdb['Revenue_bins'] = pd.cut(imdb['Revenue_millions'], bins=bin_edges, labels=bin_labels, right=False)\n",
        "\n",
        "# Count the number of movies in each revenue bin\n",
        "movies_in_bins = imdb['Revenue_bins'].value_counts()\n",
        "\n",
        "# Find the bucket with the highest number of movies\n",
        "bucket_with_highest_movies = movies_in_bins.idxmax()\n",
        "\n",
        "print(\"Bucket with the highest number of movies:\", bucket_with_highest_movies)\n"
      ],
      "metadata": {
        "colab": {
          "base_uri": "https://localhost:8080/"
        },
        "id": "Uyah-ioZ3Qs2",
        "outputId": "de4faf67-68f7-47cc-b53d-080a7634c131"
      },
      "execution_count": null,
      "outputs": [
        {
          "output_type": "stream",
          "name": "stdout",
          "text": [
            "Bucket with the highest number of movies: 0-50\n"
          ]
        }
      ]
    },
    {
      "cell_type": "code",
      "source": [
        "# Group the data by 'Director' and count the number of unique genres for each director\n",
        "directors_genre_counts = imdb.groupby('Director')['Genre'].nunique()\n",
        "\n",
        "# Find the highest number of genres created by a director\n",
        "max_genres = directors_genre_counts.max()\n",
        "# Count the number of directors with the highest number of genres\n",
        "directors_with_max_genres = directors_genre_counts[directors_genre_counts == max_genres].count()\n",
        "\n",
        "print(\"Number of directors with the highest number of genres:\", directors_with_max_genres)\n",
        "\n"
      ],
      "metadata": {
        "colab": {
          "base_uri": "https://localhost:8080/"
        },
        "id": "g8ZRNEgb3j72",
        "outputId": "f1d0b638-1266-4260-cf24-45763da74166"
      },
      "execution_count": null,
      "outputs": [
        {
          "output_type": "stream",
          "name": "stdout",
          "text": [
            "Number of directors with the highest number of genres: 2\n"
          ]
        }
      ]
    },
    {
      "cell_type": "code",
      "source": [],
      "metadata": {
        "id": "0MBnSeU73j-a"
      },
      "execution_count": null,
      "outputs": []
    }
  ]
}